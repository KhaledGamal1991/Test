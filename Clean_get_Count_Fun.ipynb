{
 "cells": [
  {
   "cell_type": "code",
   "execution_count": 1,
   "metadata": {},
   "outputs": [],
   "source": [
    "import numpy as np\n",
    "import pandas as pd\n",
    "import matplotlib.pyplot as plt\n",
    "import seaborn as sns\n",
    "import HowToBreakIntoTheField as t\n",
    "%matplotlib inline\n",
    "\n",
    "df = pd.read_csv('./survey_results_public.csv')\n",
    "schema = pd.read_csv('./survey_results_schema.csv')"
   ]
  },
  {
   "cell_type": "code",
   "execution_count": 2,
   "metadata": {},
   "outputs": [],
   "source": [
    "def clean_get_count(DataFrame):\n",
    "    X = pd.DataFrame(DataFrame['CousinEducation'].str.split('[;][ ]').apply(pd.Series))\n",
    "    X1 = pd.DataFrame(pd.Series(pd.concat([X[0],X[1],X[2],X[3]]))).rename(columns = {0: 'Name'})\n",
    "    X2 = X1['Name'].dropna()\n",
    "    return pd.DataFrame(X2.value_counts()/X2.shape[0])"
   ]
  },
  {
   "cell_type": "code",
   "execution_count": 3,
   "metadata": {},
   "outputs": [
    {
     "data": {
      "text/plain": [
       "0    0\n",
       "1    0\n",
       "2    0\n",
       "3    0\n",
       "4    1\n",
       "Name: FormalEducation, dtype: int64"
      ]
     },
     "execution_count": 3,
     "metadata": {},
     "output_type": "execute_result"
    }
   ],
   "source": [
    "def higher_ed(formal_ed_str):\n",
    "    if formal_ed_str in (\"Master's degree\", \"Doctoral\", \"Professional degree\"):\n",
    "        return 1\n",
    "    else:\n",
    "        return 0\n"
   ]
  },
  {
   "cell_type": "code",
   "execution_count": 5,
   "metadata": {},
   "outputs": [],
   "source": [
    "df['HigherEd'] = df[\"FormalEducation\"].apply(higher_ed)\n",
    "higher_ed_perc = df['HigherEd'].mean()"
   ]
  },
  {
   "cell_type": "code",
   "execution_count": 6,
   "metadata": {},
   "outputs": [],
   "source": [
    "ed_1 = df[df['HigherEd'] == 1] # Subset df to only those with HigherEd of 1\n",
    "ed_0 = df[df['HigherEd'] == 0] # Subset df to only those with HigherEd of 0\n",
    "\n",
    "ed_1_per_kh = clean_get_count(ed_1)\n",
    "\n",
    "ed_0_per_kh = clean_get_count(ed_0)"
   ]
  },
  {
   "cell_type": "code",
   "execution_count": 7,
   "metadata": {},
   "outputs": [
    {
     "data": {
      "text/html": [
       "<style  type=\"text/css\" >\n",
       "    #T_9cbf8972_719e_11eb_9771_0242ac120002row0_col2 {\n",
       "            width:  10em;\n",
       "             height:  80%;\n",
       "            background:  linear-gradient(90deg, transparent 0%, transparent 7.4%, #d65f5f 7.4%, #d65f5f 21.8%, transparent 21.8%);\n",
       "        }    #T_9cbf8972_719e_11eb_9771_0242ac120002row1_col2 {\n",
       "            width:  10em;\n",
       "             height:  80%;\n",
       "            background:  linear-gradient(90deg, transparent 0%, transparent 21.8%, #5fba7d 21.8%, #5fba7d 32.0%, transparent 32.0%);\n",
       "        }    #T_9cbf8972_719e_11eb_9771_0242ac120002row2_col2 {\n",
       "            width:  10em;\n",
       "             height:  80%;\n",
       "            background:  linear-gradient(90deg, transparent 0%, transparent 9.5%, #d65f5f 9.5%, #d65f5f 21.8%, transparent 21.8%);\n",
       "        }    #T_9cbf8972_719e_11eb_9771_0242ac120002row3_col2 {\n",
       "            width:  10em;\n",
       "             height:  80%;\n",
       "            background:  linear-gradient(90deg, transparent 0%, transparent 17.2%, #d65f5f 17.2%, #d65f5f 21.8%, transparent 21.8%);\n",
       "        }    #T_9cbf8972_719e_11eb_9771_0242ac120002row4_col2 {\n",
       "            width:  10em;\n",
       "             height:  80%;\n",
       "            background:  linear-gradient(90deg, transparent 0%, transparent 18.9%, #d65f5f 18.9%, #d65f5f 21.8%, transparent 21.8%);\n",
       "        }    #T_9cbf8972_719e_11eb_9771_0242ac120002row5_col2 {\n",
       "            width:  10em;\n",
       "             height:  80%;\n",
       "            background:  linear-gradient(90deg, transparent 0%, transparent 21.8%, #5fba7d 21.8%, #5fba7d 22.0%, transparent 22.0%);\n",
       "        }    #T_9cbf8972_719e_11eb_9771_0242ac120002row6_col2 {\n",
       "            width:  10em;\n",
       "             height:  80%;\n",
       "            background:  linear-gradient(90deg, transparent 0%, transparent 0.2%, #d65f5f 0.2%, #d65f5f 21.8%, transparent 21.8%);\n",
       "        }    #T_9cbf8972_719e_11eb_9771_0242ac120002row7_col2 {\n",
       "            width:  10em;\n",
       "             height:  80%;\n",
       "            background:  linear-gradient(90deg, transparent 0%, transparent 21.8%, #5fba7d 21.8%, #5fba7d 100.0%, transparent 100.0%);\n",
       "        }    #T_9cbf8972_719e_11eb_9771_0242ac120002row8_col2 {\n",
       "            width:  10em;\n",
       "             height:  80%;\n",
       "            background:  linear-gradient(90deg, transparent 0%, transparent 21.8%, #5fba7d 21.8%, #5fba7d 30.2%, transparent 30.2%);\n",
       "        }    #T_9cbf8972_719e_11eb_9771_0242ac120002row9_col2 {\n",
       "            width:  10em;\n",
       "             height:  80%;\n",
       "            background:  linear-gradient(90deg, transparent 0%, transparent 0.0%, #d65f5f 0.0%, #d65f5f 21.8%, transparent 21.8%);\n",
       "        }    #T_9cbf8972_719e_11eb_9771_0242ac120002row10_col2 {\n",
       "            width:  10em;\n",
       "             height:  80%;\n",
       "            background:  linear-gradient(90deg, transparent 0%, transparent 10.4%, #d65f5f 10.4%, #d65f5f 21.8%, transparent 21.8%);\n",
       "        }    #T_9cbf8972_719e_11eb_9771_0242ac120002row11_col2 {\n",
       "            width:  10em;\n",
       "             height:  80%;\n",
       "            background:  linear-gradient(90deg, transparent 0%, transparent 10.3%, #d65f5f 10.3%, #d65f5f 21.8%, transparent 21.8%);\n",
       "        }    #T_9cbf8972_719e_11eb_9771_0242ac120002row12_col2 {\n",
       "            width:  10em;\n",
       "             height:  80%;\n",
       "            background:  linear-gradient(90deg, transparent 0%, transparent 21.8%, #5fba7d 21.8%, #5fba7d 25.6%, transparent 25.6%);\n",
       "        }</style>  \n",
       "<table id=\"T_9cbf8972_719e_11eb_9771_0242ac120002\" > \n",
       "<thead>    <tr> \n",
       "        <th class=\"blank level0\" ></th> \n",
       "        <th class=\"col_heading level0 col0\" >ed_1_per_kh</th> \n",
       "        <th class=\"col_heading level0 col1\" >ed_0_per_kh</th> \n",
       "        <th class=\"col_heading level0 col2\" >Diff_HigherEd_Vals</th> \n",
       "    </tr></thead> \n",
       "<tbody>    <tr> \n",
       "        <th id=\"T_9cbf8972_719e_11eb_9771_0242ac120002level0_row0\" class=\"row_heading level0 row0\" >Take online courses</th> \n",
       "        <td id=\"T_9cbf8972_719e_11eb_9771_0242ac120002row0_col0\" class=\"data row0 col0\" >0.205361</td> \n",
       "        <td id=\"T_9cbf8972_719e_11eb_9771_0242ac120002row0_col1\" class=\"data row0 col1\" >0.21009</td> \n",
       "        <td id=\"T_9cbf8972_719e_11eb_9771_0242ac120002row0_col2\" class=\"data row0 col2\" >-0.00472961</td> \n",
       "    </tr>    <tr> \n",
       "        <th id=\"T_9cbf8972_719e_11eb_9771_0242ac120002level0_row1\" class=\"row_heading level0 row1\" >Buy books and work through the exercises</th> \n",
       "        <td id=\"T_9cbf8972_719e_11eb_9771_0242ac120002row1_col0\" class=\"data row1 col0\" >0.163579</td> \n",
       "        <td id=\"T_9cbf8972_719e_11eb_9771_0242ac120002row1_col1\" class=\"data row1 col1\" >0.160257</td> \n",
       "        <td id=\"T_9cbf8972_719e_11eb_9771_0242ac120002row1_col2\" class=\"data row1 col2\" >0.00332183</td> \n",
       "    </tr>    <tr> \n",
       "        <th id=\"T_9cbf8972_719e_11eb_9771_0242ac120002level0_row2\" class=\"row_heading level0 row2\" >Contribute to open source</th> \n",
       "        <td id=\"T_9cbf8972_719e_11eb_9771_0242ac120002row2_col0\" class=\"data row2 col0\" >0.106031</td> \n",
       "        <td id=\"T_9cbf8972_719e_11eb_9771_0242ac120002row2_col1\" class=\"data row2 col1\" >0.110053</td> \n",
       "        <td id=\"T_9cbf8972_719e_11eb_9771_0242ac120002row2_col2\" class=\"data row2 col2\" >-0.00402243</td> \n",
       "    </tr>    <tr> \n",
       "        <th id=\"T_9cbf8972_719e_11eb_9771_0242ac120002level0_row3\" class=\"row_heading level0 row3\" >Part-time/evening courses</th> \n",
       "        <td id=\"T_9cbf8972_719e_11eb_9771_0242ac120002row3_col0\" class=\"data row3 col0\" >0.101498</td> \n",
       "        <td id=\"T_9cbf8972_719e_11eb_9771_0242ac120002row3_col1\" class=\"data row3 col1\" >0.103005</td> \n",
       "        <td id=\"T_9cbf8972_719e_11eb_9771_0242ac120002row3_col2\" class=\"data row3 col2\" >-0.00150699</td> \n",
       "    </tr>    <tr> \n",
       "        <th id=\"T_9cbf8972_719e_11eb_9771_0242ac120002level0_row4\" class=\"row_heading level0 row4\" >Bootcamp</th> \n",
       "        <td id=\"T_9cbf8972_719e_11eb_9771_0242ac120002row4_col0\" class=\"data row4 col0\" >0.0731179</td> \n",
       "        <td id=\"T_9cbf8972_719e_11eb_9771_0242ac120002row4_col1\" class=\"data row4 col1\" >0.0740695</td> \n",
       "        <td id=\"T_9cbf8972_719e_11eb_9771_0242ac120002row4_col2\" class=\"data row4 col2\" >-0.000951639</td> \n",
       "    </tr>    <tr> \n",
       "        <th id=\"T_9cbf8972_719e_11eb_9771_0242ac120002level0_row5\" class=\"row_heading level0 row5\" >Return to college</th> \n",
       "        <td id=\"T_9cbf8972_719e_11eb_9771_0242ac120002row5_col0\" class=\"data row5 col0\" >0.0691762</td> \n",
       "        <td id=\"T_9cbf8972_719e_11eb_9771_0242ac120002row5_col1\" class=\"data row5 col1\" >0.0691233</td> \n",
       "        <td id=\"T_9cbf8972_719e_11eb_9771_0242ac120002row5_col2\" class=\"data row5 col2\" >5.29081e-05</td> \n",
       "    </tr>    <tr> \n",
       "        <th id=\"T_9cbf8972_719e_11eb_9771_0242ac120002level0_row6\" class=\"row_heading level0 row6\" >Conferences/meet-ups</th> \n",
       "        <td id=\"T_9cbf8972_719e_11eb_9771_0242ac120002row6_col0\" class=\"data row6 col0\" >0.0670083</td> \n",
       "        <td id=\"T_9cbf8972_719e_11eb_9771_0242ac120002row6_col1\" class=\"data row6 col1\" >0.0740695</td> \n",
       "        <td id=\"T_9cbf8972_719e_11eb_9771_0242ac120002row6_col2\" class=\"data row6 col2\" >-0.00706122</td> \n",
       "    </tr>    <tr> \n",
       "        <th id=\"T_9cbf8972_719e_11eb_9771_0242ac120002level0_row7\" class=\"row_heading level0 row7\" >Master's degree</th> \n",
       "        <td id=\"T_9cbf8972_719e_11eb_9771_0242ac120002row7_col0\" class=\"data row7 col0\" >0.0557745</td> \n",
       "        <td id=\"T_9cbf8972_719e_11eb_9771_0242ac120002row7_col1\" class=\"data row7 col1\" >0.0302337</td> \n",
       "        <td id=\"T_9cbf8972_719e_11eb_9771_0242ac120002row7_col2\" class=\"data row7 col2\" >0.0255408</td> \n",
       "    </tr>    <tr> \n",
       "        <th id=\"T_9cbf8972_719e_11eb_9771_0242ac120002level0_row8\" class=\"row_heading level0 row8\" >Get a job as a QA tester</th> \n",
       "        <td id=\"T_9cbf8972_719e_11eb_9771_0242ac120002row8_col0\" class=\"data row8 col0\" >0.0508475</td> \n",
       "        <td id=\"T_9cbf8972_719e_11eb_9771_0242ac120002row8_col1\" class=\"data row8 col1\" >0.0481019</td> \n",
       "        <td id=\"T_9cbf8972_719e_11eb_9771_0242ac120002row8_col2\" class=\"data row8 col2\" >0.00274557</td> \n",
       "    </tr>    <tr> \n",
       "        <th id=\"T_9cbf8972_719e_11eb_9771_0242ac120002level0_row9\" class=\"row_heading level0 row9\" >Participate in online coding competitions</th> \n",
       "        <td id=\"T_9cbf8972_719e_11eb_9771_0242ac120002row9_col0\" class=\"data row9 col0\" >0.0415845</td> \n",
       "        <td id=\"T_9cbf8972_719e_11eb_9771_0242ac120002row9_col1\" class=\"data row9 col1\" >0.0487202</td> \n",
       "        <td id=\"T_9cbf8972_719e_11eb_9771_0242ac120002row9_col2\" class=\"data row9 col2\" >-0.00713562</td> \n",
       "    </tr>    <tr> \n",
       "        <th id=\"T_9cbf8972_719e_11eb_9771_0242ac120002level0_row10\" class=\"row_heading level0 row10\" >Participate in hackathons</th> \n",
       "        <td id=\"T_9cbf8972_719e_11eb_9771_0242ac120002row10_col0\" class=\"data row10 col0\" >0.0321246</td> \n",
       "        <td id=\"T_9cbf8972_719e_11eb_9771_0242ac120002row10_col1\" class=\"data row10 col1\" >0.03586</td> \n",
       "        <td id=\"T_9cbf8972_719e_11eb_9771_0242ac120002row10_col2\" class=\"data row10 col2\" >-0.00373547</td> \n",
       "    </tr>    <tr> \n",
       "        <th id=\"T_9cbf8972_719e_11eb_9771_0242ac120002level0_row11\" class=\"row_heading level0 row11\" >Other</th> \n",
       "        <td id=\"T_9cbf8972_719e_11eb_9771_0242ac120002row11_col0\" class=\"data row11 col0\" >0.0244383</td> \n",
       "        <td id=\"T_9cbf8972_719e_11eb_9771_0242ac120002row11_col1\" class=\"data row11 col1\" >0.0281934</td> \n",
       "        <td id=\"T_9cbf8972_719e_11eb_9771_0242ac120002row11_col2\" class=\"data row11 col2\" >-0.00375508</td> \n",
       "    </tr>    <tr> \n",
       "        <th id=\"T_9cbf8972_719e_11eb_9771_0242ac120002level0_row12\" class=\"row_heading level0 row12\" >None of these</th> \n",
       "        <td id=\"T_9cbf8972_719e_11eb_9771_0242ac120002row12_col0\" class=\"data row12 col0\" >0.00945999</td> \n",
       "        <td id=\"T_9cbf8972_719e_11eb_9771_0242ac120002row12_col1\" class=\"data row12 col1\" >0.00822307</td> \n",
       "        <td id=\"T_9cbf8972_719e_11eb_9771_0242ac120002row12_col2\" class=\"data row12 col2\" >0.00123692</td> \n",
       "    </tr></tbody> \n",
       "</table> "
      ],
      "text/plain": [
       "<pandas.io.formats.style.Styler at 0x7f2d484d4978>"
      ]
     },
     "execution_count": 7,
     "metadata": {},
     "output_type": "execute_result"
    }
   ],
   "source": [
    "comp_df = pd.merge(ed_1_per_kh, ed_0_per_kh, left_index=True, right_index=True)\n",
    "comp_df.columns = ['ed_1_per_kh', 'ed_0_per_kh']\n",
    "comp_df['Diff_HigherEd_Vals'] = comp_df['ed_1_per_kh'] - comp_df['ed_0_per_kh']\n",
    "comp_df.style.bar(subset=['Diff_HigherEd_Vals'], align='mid', color=['#d65f5f', '#5fba7d'])"
   ]
  },
  {
   "cell_type": "code",
   "execution_count": null,
   "metadata": {},
   "outputs": [],
   "source": []
  }
 ],
 "metadata": {
  "kernelspec": {
   "display_name": "Python 3",
   "language": "python",
   "name": "python3"
  },
  "language_info": {
   "codemirror_mode": {
    "name": "ipython",
    "version": 3
   },
   "file_extension": ".py",
   "mimetype": "text/x-python",
   "name": "python",
   "nbconvert_exporter": "python",
   "pygments_lexer": "ipython3",
   "version": "3.6.3"
  }
 },
 "nbformat": 4,
 "nbformat_minor": 2
}
